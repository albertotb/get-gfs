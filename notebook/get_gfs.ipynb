{
 "cells": [
  {
   "cell_type": "code",
   "execution_count": 2,
   "metadata": {
    "collapsed": true
   },
   "outputs": [],
   "source": [
    "import xarray as xr\n",
    "import datetime as dt\n",
    "from itertools import chain\n",
    "import numpy as np\n"
   ]
  },
  {
   "cell_type": "markdown",
   "metadata": {},
   "source": [
    "Parameters: date and hour (00, 06, 12 or 18). The GFs model has a spatial resolution of 0.25 degrees and a temporal resolution of 1 hour"
   ]
  },
  {
   "cell_type": "code",
   "execution_count": 5,
   "metadata": {},
   "outputs": [
    {
     "name": "stdout",
     "output_type": "stream",
     "text": [
      "20221108\n",
      "[0.0, 0.25, 0.5, 0.75, 1.0, 1.25, 1.5, 1.75, 2.0, 358.0, 358.25, 358.5, 358.75, 359.0, 359.25, 359.5, 359.75]\n",
      "https://nomads.ncep.noaa.gov/dods/gfs_0p25_1hr/gfs20221108/gfs_0p25_1hr_00z\n"
     ]
    },
    {
     "name": "stderr",
     "output_type": "stream",
     "text": [
      "Note:Caching=1\n",
      "/home/alberto/miniconda3/envs/get-gfs/lib/python3.9/site-packages/xarray/coding/times.py:150: SerializationWarning: Ambiguous reference date string: 1-1-1 00:00:0.0. The first value is assumed to be the year hence will be padded with zeros to remove the ambiguity (the padded reference date string is: 0001-1-1 00:00:0.0). To remove this message, remove the ambiguity by padding your reference date strings with zeros.\n",
      "  warnings.warn(warning_msg, SerializationWarning)\n",
      "/home/alberto/miniconda3/envs/get-gfs/lib/python3.9/site-packages/xarray/coding/times.py:150: SerializationWarning: Ambiguous reference date string: 1-1-1 00:00:0.0. The first value is assumed to be the year hence will be padded with zeros to remove the ambiguity (the padded reference date string is: 0001-1-1 00:00:0.0). To remove this message, remove the ambiguity by padding your reference date strings with zeros.\n",
      "  warnings.warn(warning_msg, SerializationWarning)\n"
     ]
    }
   ],
   "source": [
    "range1 = lambda start, end, step=1: np.arange(start, end + step, step)\n",
    "date = (dt.date.today() - dt.timedelta(days=1)).strftime(\"%Y%m%d\")\n",
    "gfs = f\"https://nomads.ncep.noaa.gov/dods/gfs_0p25_1hr\"\n",
    "\n",
    "lat = (-2, 2)\n",
    "# Since lon is in the range 0, 360 and not -180, 180 it is common wanting to download a non-consecutive interval\n",
    "# For instance 0, 0.25 and 358,359.75. This would correspond to -2, 0.25 in -180, 180 range\n",
    "# Then we cannot use a slice object, we need to explicitily list all values\n",
    "lon = list(chain(range1(0, 2, 0.25), range1(358, 359.75, 0.25)))\n",
    "time = (0, 1)\n",
    "var = [\"tmp2m\"]\n",
    "runs = [0]\n",
    "\n",
    "print(date)\n",
    "print(lon)\n",
    "\n",
    "for run in runs:\n",
    "    url = f\"{gfs}/gfs{date}/gfs_0p25_1hr_{run:02d}z\"\n",
    "    print(url)\n",
    "    with xr.open_dataset(url) as ds:\n",
    "        (\n",
    "            ds[var]\n",
    "            .isel(time=slice(*time))\n",
    "            .sel(lat=slice(*lat), lon=lon)\n",
    "            .to_netcdf(f\"{date}_{run:02d}.nc\")\n",
    "        )\n"
   ]
  },
  {
   "cell_type": "code",
   "execution_count": null,
   "metadata": {},
   "outputs": [],
   "source": []
  }
 ],
 "metadata": {
  "kernelspec": {
   "display_name": "Python 3.10.6 ('get-gfs')",
   "language": "python",
   "name": "python3"
  },
  "language_info": {
   "codemirror_mode": {
    "name": "ipython",
    "version": 3
   },
   "file_extension": ".py",
   "mimetype": "text/x-python",
   "name": "python",
   "nbconvert_exporter": "python",
   "pygments_lexer": "ipython3",
   "version": "3.9.0"
  },
  "vscode": {
   "interpreter": {
    "hash": "e6d217ddd860d14589860f0e06cb2192a9028cf6c110b539310ed5bf6d43e16d"
   }
  }
 },
 "nbformat": 4,
 "nbformat_minor": 4
}
