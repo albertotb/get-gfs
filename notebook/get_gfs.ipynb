{
 "cells": [
  {
   "cell_type": "code",
   "execution_count": 1,
   "metadata": {
    "collapsed": true
   },
   "outputs": [],
   "source": [
    "import os\n",
    "import xarray as xr\n",
    "import datetime as dt\n",
    "from itertools import chain\n",
    "import numpy as np"
   ]
  },
  {
   "cell_type": "markdown",
   "metadata": {},
   "source": [
    "Parameters: date and hour (00, 06, 12 or 18). The GFs model has a spatial resolution of 0.25 degrees and a temporal resolution of 1 hour"
   ]
  },
  {
   "cell_type": "code",
   "execution_count": 3,
   "metadata": {},
   "outputs": [
    {
     "name": "stdout",
     "output_type": "stream",
     "text": [
      "20200520\n",
      "[0.0, 0.25, 0.5, 0.75, 1.0, 1.25, 1.5, 1.75, 2.0, 358.0, 358.25, 358.5, 358.75, 359.0, 359.25, 359.5, 359.75]\n",
      "https://nomads.ncep.noaa.gov:9090/dods/gfs_0p25_1hr/gfs20200520/gfs_0p25_1hr_00z\n",
      "https://nomads.ncep.noaa.gov:9090/dods/gfs_0p25_1hr/gfs20200520/gfs_0p25_1hr_06z\n",
      "https://nomads.ncep.noaa.gov:9090/dods/gfs_0p25_1hr/gfs20200520/gfs_0p25_1hr_12z\n",
      "https://nomads.ncep.noaa.gov:9090/dods/gfs_0p25_1hr/gfs20200520/gfs_0p25_1hr_18z\n"
     ]
    }
   ],
   "source": [
    "range1 = lambda start, end, step=1: np.arange(start, end+step, step)\n",
    "date = (dt.date.today() - dt.timedelta(days=1)).strftime(\"%Y%m%d\") \n",
    "gfs = f'https://nomads.ncep.noaa.gov:9090/dods/gfs_0p25_1hr'\n",
    "\n",
    "lat = (-2, 2)\n",
    "# Since lon is in the range 0, 360 and not -180, 180 it is common wanting to download a non-consecutive interval\n",
    "# For instance 0, 0.25 and 358,359.75. This would correspond to -2, 0.25 in -180, 180 range\n",
    "# Then we cannot use a slice object, we need to explicitily list all values\n",
    "lon = list(chain(range1(0, 2, 0.25), range1(358, 359.75, 0.25)))\n",
    "time = (0, 24)\n",
    "var = ['tmp2m', 'prmslmsl', 'apcpsfc']\n",
    "\n",
    "print(date)\n",
    "print(lon)\n",
    "\n",
    "for hour in (0, 6, 12, 18):\n",
    "    url = f'{gfs}/gfs{date}/gfs_0p25_1hr_{hour:02d}z'\n",
    "    print(url)\n",
    "    with xr.open_dataset(url) as ds:\n",
    "        (ds[var].isel(time=slice(*time))\n",
    "                .sel(lat=slice(*lat), lon=lon)\n",
    "                .to_netcdf(f'{date}_{hour:02d}.nc'))"
   ]
  },
  {
   "cell_type": "code",
   "execution_count": null,
   "metadata": {
    "collapsed": true
   },
   "outputs": [],
   "source": []
  }
 ],
 "metadata": {
  "kernelspec": {
   "display_name": "conda",
   "language": "python",
   "name": "conda"
  },
  "language_info": {
   "codemirror_mode": {
    "name": "ipython",
    "version": 3
   },
   "file_extension": ".py",
   "mimetype": "text/x-python",
   "name": "python",
   "nbconvert_exporter": "python",
   "pygments_lexer": "ipython3",
   "version": "3.7.4"
  }
 },
 "nbformat": 4,
 "nbformat_minor": 4
}
